{
 "cells": [
  {
   "cell_type": "markdown",
   "id": "f6a4ee74",
   "metadata": {},
   "source": [
    "Data Science Tools and Ecosystem"
   ]
  },
  {
   "cell_type": "markdown",
   "id": "b498526f",
   "metadata": {},
   "source": [
    "In this notebook, Data Science Tools and Ecosystem are summarized."
   ]
  },
  {
   "cell_type": "markdown",
   "id": "2501b0c4",
   "metadata": {},
   "source": [
    "objectives\n",
    "This notebook covered Data Science Languages,Libraries,Development Environment Open Source Tool In this new cell start with an introductory line titled"
   ]
  },
  {
   "cell_type": "markdown",
   "id": "4e1116f3",
   "metadata": {},
   "source": [
    "Data science languages :Python,R,SQL"
   ]
  },
  {
   "cell_type": "code",
   "execution_count": 1,
   "id": "8b216ad3",
   "metadata": {},
   "outputs": [
    {
     "name": "stdout",
     "output_type": "stream",
     "text": [
      "['Python', 'R', 'SQL']\n"
     ]
    }
   ],
   "source": [
    "Data_science_languages=[\"Python\",\"R\",\"SQL\"]\n",
    "print(Data_science_languages)\n"
   ]
  },
  {
   "cell_type": "markdown",
   "id": "3078eb3e",
   "metadata": {},
   "source": [
    "Some of the commonly used libraries used by Data Scientists include:Pandas,Numpy,ggplot,Keras"
   ]
  },
  {
   "cell_type": "markdown",
   "id": "bff7a5e5",
   "metadata": {},
   "source": [
    "| Data Science Tools | Development Environment Open Source Tools |\n",
    "| --- | --- |\n",
    "| RStudio | R |\n",
    "| Jupyter Notebook | Python |\n",
    "| Spyder | Python |\n",
    "| RapidMiner | GUI |\n",
    "| KNIME | GUI |\n",
    "| Weka | GUI |\n",
    "| Orange | GUI |\n",
    "| MATLAB | Proprietary |\n",
    "| SAS | Proprietary |\n",
    "```"
   ]
  },
  {
   "cell_type": "markdown",
   "id": "81f8077c",
   "metadata": {},
   "source": [
    "Below are a few examples of evaluating arithmetic expressions in Python:\n",
    "addition:\n",
    "2 + 3\n",
    "subtraction:\n",
    "5 - 2\n",
    "multiplication:\n",
    "2 * 3\n",
    "division:\n",
    "10 / 2\n",
    "modulus:\n",
    "15 % 4"
   ]
  },
  {
   "cell_type": "code",
   "execution_count": 2,
   "id": "2c0115ee",
   "metadata": {},
   "outputs": [
    {
     "data": {
      "text/plain": [
       "17"
      ]
     },
     "execution_count": 2,
     "metadata": {},
     "output_type": "execute_result"
    }
   ],
   "source": [
    "#This a simple arithmetic expression to mutiply then add integers\n",
    "(3*4)+5"
   ]
  },
  {
   "cell_type": "code",
   "execution_count": 1,
   "id": "fe1ccd49",
   "metadata": {},
   "outputs": [
    {
     "name": "stdout",
     "output_type": "stream",
     "text": [
      "Enter the min: 6000\n",
      "100.0\n"
     ]
    }
   ],
   "source": [
    "# This will convert  minutes to hours by diving by 60.\n",
    "min = int(input(\"Enter the min: \"))\n",
    "hours = min / 60\n",
    "print(hours)"
   ]
  },
  {
   "cell_type": "markdown",
   "id": "8afcd6a3",
   "metadata": {},
   "source": [
    "Author:\n",
    "Omar Rany "
   ]
  }
 ],
 "metadata": {
  "kernelspec": {
   "display_name": "Python 3 (ipykernel)",
   "language": "python",
   "name": "python3"
  },
  "language_info": {
   "codemirror_mode": {
    "name": "ipython",
    "version": 3
   },
   "file_extension": ".py",
   "mimetype": "text/x-python",
   "name": "python",
   "nbconvert_exporter": "python",
   "pygments_lexer": "ipython3",
   "version": "3.9.13"
  }
 },
 "nbformat": 4,
 "nbformat_minor": 5
}
